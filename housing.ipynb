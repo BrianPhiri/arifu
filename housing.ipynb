{
 "cells": [
  {
   "cell_type": "code",
   "execution_count": 2,
   "metadata": {},
   "outputs": [
    {
     "name": "stderr",
     "output_type": "stream",
     "text": [
      "/usr/lib/python3.6/importlib/_bootstrap.py:219: RuntimeWarning: numpy.dtype size changed, may indicate binary incompatibility. Expected 96, got 88\n",
      "  return f(*args, **kwds)\n",
      "/usr/lib/python3.6/importlib/_bootstrap.py:219: RuntimeWarning: numpy.dtype size changed, may indicate binary incompatibility. Expected 96, got 88\n",
      "  return f(*args, **kwds)\n"
     ]
    }
   ],
   "source": [
    "import numpy as np\n",
    "import pandas as pd"
   ]
  },
  {
   "cell_type": "code",
   "execution_count": null,
   "metadata": {},
   "outputs": [],
   "source": [
    "data = pd.read_csv('housing.csv',encoding=\"ISO-8859-1\")\n",
    "data.head()"
   ]
  },
  {
   "cell_type": "code",
   "execution_count": 4,
   "metadata": {},
   "outputs": [
    {
     "name": "stdout",
     "output_type": "stream",
     "text": [
      "15641\n"
     ]
    }
   ],
   "source": [
    "# How many learners were in the housing trainings project?\n",
    "print(data.learner_id.nunique())"
   ]
  },
  {
   "cell_type": "code",
   "execution_count": 23,
   "metadata": {},
   "outputs": [
    {
     "name": "stdout",
     "output_type": "stream",
     "text": [
      "PLB    123652\n",
      "HFS     78505\n",
      "SF      55654\n",
      "Name: program_code, dtype: int64\n"
     ]
    }
   ],
   "source": [
    "# Which were the 3 most popular trainings? (Trainings with the most learners)\n",
    "print(data.program_code.value_counts()[:3])"
   ]
  },
  {
   "cell_type": "code",
   "execution_count": 6,
   "metadata": {},
   "outputs": [
    {
     "data": {
      "text/html": [
       "<div>\n",
       "<style scoped>\n",
       "    .dataframe tbody tr th:only-of-type {\n",
       "        vertical-align: middle;\n",
       "    }\n",
       "\n",
       "    .dataframe tbody tr th {\n",
       "        vertical-align: top;\n",
       "    }\n",
       "\n",
       "    .dataframe thead th {\n",
       "        text-align: right;\n",
       "    }\n",
       "</style>\n",
       "<table border=\"1\" class=\"dataframe\">\n",
       "  <thead>\n",
       "    <tr style=\"text-align: right;\">\n",
       "      <th></th>\n",
       "      <th>Unnamed: 0</th>\n",
       "      <th>learner_id</th>\n",
       "      <th>program_code</th>\n",
       "      <th>variation_code</th>\n",
       "      <th>message_in</th>\n",
       "      <th>message_out</th>\n",
       "      <th>created_at</th>\n",
       "      <th>user_response</th>\n",
       "    </tr>\n",
       "  </thead>\n",
       "  <tbody>\n",
       "    <tr>\n",
       "      <th>count</th>\n",
       "      <td>422868.000000</td>\n",
       "      <td>422868.000000</td>\n",
       "      <td>422868</td>\n",
       "      <td>422868</td>\n",
       "      <td>421050</td>\n",
       "      <td>422722</td>\n",
       "      <td>422868</td>\n",
       "      <td>409270</td>\n",
       "    </tr>\n",
       "    <tr>\n",
       "      <th>unique</th>\n",
       "      <td>NaN</td>\n",
       "      <td>NaN</td>\n",
       "      <td>7</td>\n",
       "      <td>13</td>\n",
       "      <td>7756</td>\n",
       "      <td>1918</td>\n",
       "      <td>267973</td>\n",
       "      <td>7952</td>\n",
       "    </tr>\n",
       "    <tr>\n",
       "      <th>top</th>\n",
       "      <td>NaN</td>\n",
       "      <td>NaN</td>\n",
       "      <td>PLB</td>\n",
       "      <td>PLB</td>\n",
       "      <td>A</td>\n",
       "      <td>All SMSs are FREE. Reply with a number to lear...</td>\n",
       "      <td>2018-02-14 19:08:06</td>\n",
       "      <td>A</td>\n",
       "    </tr>\n",
       "    <tr>\n",
       "      <th>freq</th>\n",
       "      <td>NaN</td>\n",
       "      <td>NaN</td>\n",
       "      <td>123652</td>\n",
       "      <td>120338</td>\n",
       "      <td>206272</td>\n",
       "      <td>18693</td>\n",
       "      <td>26</td>\n",
       "      <td>205878</td>\n",
       "    </tr>\n",
       "    <tr>\n",
       "      <th>mean</th>\n",
       "      <td>211434.500000</td>\n",
       "      <td>331117.453078</td>\n",
       "      <td>NaN</td>\n",
       "      <td>NaN</td>\n",
       "      <td>NaN</td>\n",
       "      <td>NaN</td>\n",
       "      <td>NaN</td>\n",
       "      <td>NaN</td>\n",
       "    </tr>\n",
       "    <tr>\n",
       "      <th>std</th>\n",
       "      <td>122071.621153</td>\n",
       "      <td>242367.504512</td>\n",
       "      <td>NaN</td>\n",
       "      <td>NaN</td>\n",
       "      <td>NaN</td>\n",
       "      <td>NaN</td>\n",
       "      <td>NaN</td>\n",
       "      <td>NaN</td>\n",
       "    </tr>\n",
       "    <tr>\n",
       "      <th>min</th>\n",
       "      <td>1.000000</td>\n",
       "      <td>8.000000</td>\n",
       "      <td>NaN</td>\n",
       "      <td>NaN</td>\n",
       "      <td>NaN</td>\n",
       "      <td>NaN</td>\n",
       "      <td>NaN</td>\n",
       "      <td>NaN</td>\n",
       "    </tr>\n",
       "    <tr>\n",
       "      <th>25%</th>\n",
       "      <td>105717.750000</td>\n",
       "      <td>91560.000000</td>\n",
       "      <td>NaN</td>\n",
       "      <td>NaN</td>\n",
       "      <td>NaN</td>\n",
       "      <td>NaN</td>\n",
       "      <td>NaN</td>\n",
       "      <td>NaN</td>\n",
       "    </tr>\n",
       "    <tr>\n",
       "      <th>50%</th>\n",
       "      <td>211434.500000</td>\n",
       "      <td>270121.000000</td>\n",
       "      <td>NaN</td>\n",
       "      <td>NaN</td>\n",
       "      <td>NaN</td>\n",
       "      <td>NaN</td>\n",
       "      <td>NaN</td>\n",
       "      <td>NaN</td>\n",
       "    </tr>\n",
       "    <tr>\n",
       "      <th>75%</th>\n",
       "      <td>317151.250000</td>\n",
       "      <td>577151.000000</td>\n",
       "      <td>NaN</td>\n",
       "      <td>NaN</td>\n",
       "      <td>NaN</td>\n",
       "      <td>NaN</td>\n",
       "      <td>NaN</td>\n",
       "      <td>NaN</td>\n",
       "    </tr>\n",
       "    <tr>\n",
       "      <th>max</th>\n",
       "      <td>422868.000000</td>\n",
       "      <td>781388.000000</td>\n",
       "      <td>NaN</td>\n",
       "      <td>NaN</td>\n",
       "      <td>NaN</td>\n",
       "      <td>NaN</td>\n",
       "      <td>NaN</td>\n",
       "      <td>NaN</td>\n",
       "    </tr>\n",
       "  </tbody>\n",
       "</table>\n",
       "</div>"
      ],
      "text/plain": [
       "           Unnamed: 0     learner_id program_code variation_code message_in  \\\n",
       "count   422868.000000  422868.000000       422868         422868     421050   \n",
       "unique            NaN            NaN            7             13       7756   \n",
       "top               NaN            NaN          PLB            PLB          A   \n",
       "freq              NaN            NaN       123652         120338     206272   \n",
       "mean    211434.500000  331117.453078          NaN            NaN        NaN   \n",
       "std     122071.621153  242367.504512          NaN            NaN        NaN   \n",
       "min          1.000000       8.000000          NaN            NaN        NaN   \n",
       "25%     105717.750000   91560.000000          NaN            NaN        NaN   \n",
       "50%     211434.500000  270121.000000          NaN            NaN        NaN   \n",
       "75%     317151.250000  577151.000000          NaN            NaN        NaN   \n",
       "max     422868.000000  781388.000000          NaN            NaN        NaN   \n",
       "\n",
       "                                              message_out  \\\n",
       "count                                              422722   \n",
       "unique                                               1918   \n",
       "top     All SMSs are FREE. Reply with a number to lear...   \n",
       "freq                                                18693   \n",
       "mean                                                  NaN   \n",
       "std                                                   NaN   \n",
       "min                                                   NaN   \n",
       "25%                                                   NaN   \n",
       "50%                                                   NaN   \n",
       "75%                                                   NaN   \n",
       "max                                                   NaN   \n",
       "\n",
       "                 created_at user_response  \n",
       "count                422868        409270  \n",
       "unique               267973          7952  \n",
       "top     2018-02-14 19:08:06             A  \n",
       "freq                     26        205878  \n",
       "mean                    NaN           NaN  \n",
       "std                     NaN           NaN  \n",
       "min                     NaN           NaN  \n",
       "25%                     NaN           NaN  \n",
       "50%                     NaN           NaN  \n",
       "75%                     NaN           NaN  \n",
       "max                     NaN           NaN  "
      ]
     },
     "execution_count": 6,
     "metadata": {},
     "output_type": "execute_result"
    }
   ],
   "source": [
    "data.describe(include='all')"
   ]
  },
  {
   "cell_type": "code",
   "execution_count": 22,
   "metadata": {},
   "outputs": [
    {
     "data": {
      "text/plain": [
       "648424    1172\n",
       "Name: learner_id, dtype: int64"
      ]
     },
     "execution_count": 22,
     "metadata": {},
     "output_type": "execute_result"
    }
   ],
   "source": [
    "# Which learner had the most interactions and how many interactions did they have?\n",
    "data.learner_id.value_counts()[:1]"
   ]
  },
  {
   "cell_type": "code",
   "execution_count": 20,
   "metadata": {},
   "outputs": [
    {
     "name": "stdout",
     "output_type": "stream",
     "text": [
      "756\n"
     ]
    }
   ],
   "source": [
    "# How many learners had more than 100 interactions (>100) ?\n",
    "data_all = data.learner_id.value_counts()\n",
    "\n",
    "print(len(data_all[data_all > 100]))"
   ]
  },
  {
   "cell_type": "code",
   "execution_count": 18,
   "metadata": {},
   "outputs": [],
   "source": [
    "# How many learners had 100 or less interactions (<= 100)"
   ]
  },
  {
   "cell_type": "code",
   "execution_count": 28,
   "metadata": {},
   "outputs": [
    {
     "name": "stdout",
     "output_type": "stream",
     "text": [
      "count    14885.000000\n",
      "mean        20.870944\n",
      "std         21.292427\n",
      "min          1.000000\n",
      "25%          4.000000\n",
      "50%         14.000000\n",
      "75%         30.000000\n",
      "max        100.000000\n",
      "Name: learner_id, dtype: float64\n"
     ]
    }
   ],
   "source": [
    "# Stats\n",
    "print(data_all[data_all < 101].describe())"
   ]
  },
  {
   "cell_type": "code",
   "execution_count": null,
   "metadata": {},
   "outputs": [],
   "source": []
  }
 ],
 "metadata": {
  "kernelspec": {
   "display_name": "Python 3",
   "language": "python",
   "name": "python3"
  },
  "language_info": {
   "codemirror_mode": {
    "name": "ipython",
    "version": 3
   },
   "file_extension": ".py",
   "mimetype": "text/x-python",
   "name": "python",
   "nbconvert_exporter": "python",
   "pygments_lexer": "ipython3",
   "version": "3.6.5"
  }
 },
 "nbformat": 4,
 "nbformat_minor": 2
}
